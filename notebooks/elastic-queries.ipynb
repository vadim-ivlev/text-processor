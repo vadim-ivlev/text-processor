{
 "cells": [
  {
   "cell_type": "code",
   "execution_count": 1,
   "metadata": {},
   "outputs": [],
   "source": [
    "import requests\n",
    "import json\n",
    "from pprint import pprint\n",
    "\n",
    "import os, sys\n",
    "sys.path.insert(1, os.path.dirname(sys.path[0])) "
   ]
  },
  {
   "cell_type": "code",
   "execution_count": 2,
   "metadata": {},
   "outputs": [],
   "source": [
    "from deploy import text_processor"
   ]
  },
  {
   "cell_type": "code",
   "execution_count": 3,
   "metadata": {},
   "outputs": [],
   "source": [
    "username = 'admin'\n",
    "password = os.getenv('PGPASSWORD')\n",
    "\n",
    "# end point of Elasticsearch\n",
    "elastic_endpoint = 'http://13.79.79.34:9094/elasticsearch/'\n",
    "# elastic_endpoint = \"http://134.0.107.93:9094/elasticsearch/\"\n"
   ]
  },
  {
   "cell_type": "code",
   "execution_count": 4,
   "metadata": {},
   "outputs": [],
   "source": [
    "def search(text:str)->object:\n",
    "    q = {\n",
    "      \"from\": 0,\n",
    "      \"size\": 100,\n",
    "      \"timeout\": \"2s\",\n",
    "      \"_source\": [ \"obj_id\", \"title\",\"announce\",\"uannounce\", \"link_title\", \"url\" ],\n",
    "      \"query\": {\n",
    "        \"match\": {\n",
    "          \"lemmatized_text\": {\n",
    "            \"query\": text\n",
    "          }\n",
    "        }\n",
    "      }    \n",
    "    }\n",
    "    \n",
    "    rjson = {}\n",
    "    r = requests.post(f'{elastic_endpoint}articles/_search', \n",
    "                      headers = {'Content-Type': 'application/json; charset=UTF-8'}, \n",
    "                      auth=(username,password),\n",
    "                      data= json.dumps(q))\n",
    "#                       data=query_str.encode('utf-8'))\n",
    "    try:\n",
    "        rjson=r.json()\n",
    "        if rjson.get('errors') is not None:\n",
    "            pprint(rjson)\n",
    "            print(type(rjson))\n",
    "    except:\n",
    "        pprint(r)\n",
    "\n",
    "    return rjson\n",
    "\n",
    "def build_links(r:object)-> str:\n",
    "    \"\"\" Builds html links from the object returned by Elastic.\n",
    "    \"\"\"\n",
    "    if r is None: \n",
    "        return ''\n",
    "    \n",
    "    h = r.get('hits')\n",
    "    if h is None: \n",
    "        return ''\n",
    "    \n",
    "    hh = h.get('hits',[])\n",
    "    \n",
    "    links = [f\"\"\"\n",
    "    <span style=\"width:100px; display:inline-block\">{o['_score']}</span> \n",
    "    <a href=\"{o['_source']['url']}\" \n",
    "    title=\"{o['_source']['announce']}\" \n",
    "    target=\"_blank\">{o['_source']['link_title']}</a>\n",
    "    <!-- <span style=\"margin-left:20px;\">aaaaaaaa{o['_source']['announce']}</span> -->\n",
    "    <br>\n",
    "    \"\"\" for o in hh]\n",
    "    \n",
    "    return ''.join(links)\n"
   ]
  },
  {
   "cell_type": "code",
   "execution_count": 7,
   "metadata": {},
   "outputs": [
    {
     "data": {
      "application/vnd.jupyter.widget-view+json": {
       "model_id": "e8f3b3d00a4a46a5ba692dbfcd6c42d6",
       "version_major": 2,
       "version_minor": 0
      },
      "text/plain": [
       "Textarea(value='слон', layout=Layout(height='200px', width='100%'))"
      ]
     },
     "metadata": {},
     "output_type": "display_data"
    },
    {
     "data": {
      "application/vnd.jupyter.widget-view+json": {
       "model_id": "30aae61f6dab4834bae7aff6c94f3b82",
       "version_major": 2,
       "version_minor": 0
      },
      "text/plain": [
       "Button(description='search', style=ButtonStyle())"
      ]
     },
     "metadata": {},
     "output_type": "display_data"
    }
   ],
   "source": [
    "from ipywidgets import widgets, Layout\n",
    "from IPython.display import display\n",
    "\n",
    "\n",
    "txt = widgets.Textarea(\"слон\",layout=Layout(width='100%', height='200px'))\n",
    "\n",
    "\n",
    "btn = widgets.Button(description='search')\n",
    "btn.on_click(on_btn_clicked)\n",
    "display(txt)\n",
    "display(btn)\n",
    "\n",
    "# on_btn_clicked(5)\n"
   ]
  },
  {
   "cell_type": "code",
   "execution_count": 6,
   "metadata": {},
   "outputs": [
    {
     "name": "stdout",
     "output_type": "stream",
     "text": [
      "444\n"
     ]
    }
   ],
   "source": [
    "def on_btn_clicked(e):\n",
    "    text = txt.value\n",
    "    print(f'new val={text}')\n",
    "    o = text_processor.process_text(text)\n",
    "    pprint(o)\n",
    "    r = search(o['lemmatized_text'])\n",
    "    html = build_links(r)\n",
    "#     display(HTML(html))\n",
    "    print(html)\n",
    "print(444)"
   ]
  },
  {
   "cell_type": "code",
   "execution_count": null,
   "metadata": {},
   "outputs": [],
   "source": []
  }
 ],
 "metadata": {
  "kernelspec": {
   "display_name": "Python 3",
   "language": "python",
   "name": "python3"
  },
  "language_info": {
   "codemirror_mode": {
    "name": "ipython",
    "version": 3
   },
   "file_extension": ".py",
   "mimetype": "text/x-python",
   "name": "python",
   "nbconvert_exporter": "python",
   "pygments_lexer": "ipython3",
   "version": "3.8.5"
  }
 },
 "nbformat": 4,
 "nbformat_minor": 4
}
