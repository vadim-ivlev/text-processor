{
 "cells": [
  {
   "cell_type": "markdown",
   "metadata": {},
   "source": [
    "# Natasha"
   ]
  },
  {
   "cell_type": "markdown",
   "metadata": {},
   "source": [
    "Natasha solves basic NLP tasks for Russian language: tokenization, sentence segmentatoin, word embedding, morphology tagging, lemmatization, phrase normalization, syntax parsing, NER tagging, fact extraction.\n",
    "\n",
    "Library is just a wrapper for lower level tools from <a href=\"https://github.com/natasha\">Natasha project</a>:\n",
    "\n",
    "* <a href=\"https://github.com/natasha/razdel\">Razdel</a> — token, sentence segmentation for Russian\n",
    "* <a href=\"https://github.com/natasha/navec\">Navec</a> — compact Russian embeddings\n",
    "* <a href=\"https://github.com/natasha/slovnet\">Slovnet</a> — modern deep-learning techniques for Russian NLP, compact models for Russian morphology, syntax, NER.\n",
    "* <a href=\"https://github.com/natasha/yargy\">Yargy</a> — rule-based fact extraction similar to Tomita parser.\n",
    "* <a href=\"https://github.com/natasha/ipymarkup\">Ipymarkup</a> — NLP visualizations for NER and syntax markups.\n",
    "\n",
    "Consider using these lower level tools for realword tasks. Natasha models are optimized for news articles, on other domains quality may be worse."
   ]
  },
  {
   "cell_type": "code",
   "execution_count": 1,
   "metadata": {},
   "outputs": [],
   "source": [
    "from natasha import (\n",
    "    Segmenter,\n",
    "    MorphVocab,\n",
    "    \n",
    "    NewsEmbedding,\n",
    "    NewsMorphTagger,\n",
    "    NewsSyntaxParser,\n",
    "    NewsNERTagger,\n",
    "    \n",
    "    PER,\n",
    "    NamesExtractor,\n",
    "    DatesExtractor,\n",
    "    MoneyExtractor,\n",
    "    AddrExtractor,\n",
    "\n",
    "    Doc\n",
    ")\n",
    "\n",
    "segmenter = Segmenter()\n",
    "morph_vocab = MorphVocab()\n",
    "\n",
    "emb = NewsEmbedding()\n",
    "morph_tagger = NewsMorphTagger(emb)\n",
    "syntax_parser = NewsSyntaxParser(emb)\n",
    "ner_tagger = NewsNERTagger(emb)\n",
    "\n",
    "names_extractor = NamesExtractor(morph_vocab)\n",
    "dates_extractor = DatesExtractor(morph_vocab)\n",
    "money_extractor = MoneyExtractor(morph_vocab)\n",
    "addr_extractor = AddrExtractor(morph_vocab)"
   ]
  },
  {
   "cell_type": "markdown",
   "metadata": {},
   "source": [
    "# Getting started"
   ]
  },
  {
   "cell_type": "markdown",
   "metadata": {},
   "source": [
    "## Doc"
   ]
  },
  {
   "cell_type": "markdown",
   "metadata": {},
   "source": [
    "`Doc` aggregates annotators, initially it has just `text` field defined:"
   ]
  },
  {
   "cell_type": "code",
   "execution_count": 2,
   "metadata": {
    "scrolled": true
   },
   "outputs": [
    {
     "data": {
      "text/plain": [
       "Doc(text='Посол Израиля на Украине Йоэль Лион признался, чт...)"
      ]
     },
     "execution_count": 2,
     "metadata": {},
     "output_type": "execute_result"
    }
   ],
   "source": [
    "text = 'Посол Израиля на Украине Йоэль Лион признался, что пришел в шок, узнав о решении властей Львовской области объявить 2019 год годом лидера запрещенной в России Организации украинских националистов (ОУН) Степана Бандеры. Свое заявление он разместил в Twitter. «Я не могу понять, как прославление тех, кто непосредственно принимал участие в ужасных антисемитских преступлениях, помогает бороться с антисемитизмом и ксенофобией. Украина не должна забывать о преступлениях, совершенных против украинских евреев, и никоим образом не отмечать их через почитание их исполнителей», — написал дипломат. 11 декабря Львовский областной совет принял решение провозгласить 2019 год в регионе годом Степана Бандеры в связи с празднованием 110-летия со дня рождения лидера ОУН (Бандера родился 1 января 1909 года). В июле аналогичное решение принял Житомирский областной совет. В начале месяца с предложением к президенту страны Петру Порошенко вернуть Бандере звание Героя Украины обратились депутаты Верховной Рады. Парламентарии уверены, что признание Бандеры национальным героем поможет в борьбе с подрывной деятельностью против Украины в информационном поле, а также остановит «распространение мифов, созданных российской пропагандой». Степан Бандера (1909-1959) был одним из лидеров Организации украинских националистов, выступающей за создание независимого государства на территориях с украиноязычным населением. В 2010 году в период президентства Виктора Ющенко Бандера был посмертно признан Героем Украины, однако впоследствии это решение было отменено судом. '\n",
    "\n",
    "doc = Doc(text)\n",
    "doc"
   ]
  },
  {
   "cell_type": "markdown",
   "metadata": {},
   "source": [
    "After applying `segmenter` two new fields appear `sents` and `tokens`:"
   ]
  },
  {
   "cell_type": "code",
   "execution_count": 3,
   "metadata": {
    "scrolled": true
   },
   "outputs": [
    {
     "data": {
      "text/plain": [
       "Doc(text='Посол Израиля на Украине Йоэль Лион признался, чт..., tokens=[...], sents=[...])"
      ]
     },
     "metadata": {},
     "output_type": "display_data"
    },
    {
     "data": {
      "text/plain": [
       "[DocSent(stop=218, text='Посол Израиля на Украине Йоэль Лион признался, чт..., tokens=[...]),\n",
       " DocSent(start=219, stop=257, text='Свое заявление он разместил в Twitter.', tokens=[...])]"
      ]
     },
     "metadata": {},
     "output_type": "display_data"
    },
    {
     "data": {
      "text/plain": [
       "[DocToken(stop=5, text='Посол'),\n",
       " DocToken(start=6, stop=13, text='Израиля'),\n",
       " DocToken(start=14, stop=16, text='на'),\n",
       " DocToken(start=17, stop=24, text='Украине'),\n",
       " DocToken(start=25, stop=30, text='Йоэль')]"
      ]
     },
     "metadata": {},
     "output_type": "display_data"
    }
   ],
   "source": [
    "doc.segment(segmenter)\n",
    "display(doc)\n",
    "display(doc.sents[:2])\n",
    "display(doc.tokens[:5])"
   ]
  },
  {
   "cell_type": "markdown",
   "metadata": {},
   "source": [
    "After applying `morph_tagger` and `syntax_parser`, tokens get 5 new fields `id`, `pos`, `feats`, `head_id`, `rel` — annotation in <a href=\"https://universaldependencies.org/\">Universal Dependencies format</a>:"
   ]
  },
  {
   "cell_type": "code",
   "execution_count": 4,
   "metadata": {},
   "outputs": [
    {
     "data": {
      "text/plain": [
       "[DocToken(stop=5, text='Посол', id='1_1', head_id='1_7', rel='nsubj', pos='NOUN', feats=<Anim,Nom,Masc,Sing>),\n",
       " DocToken(start=6, stop=13, text='Израиля', id='1_2', head_id='1_1', rel='nmod', pos='PROPN', feats=<Inan,Gen,Masc,Sing>),\n",
       " DocToken(start=14, stop=16, text='на', id='1_3', head_id='1_4', rel='case', pos='ADP'),\n",
       " DocToken(start=17, stop=24, text='Украине', id='1_4', head_id='1_1', rel='nmod', pos='PROPN', feats=<Inan,Loc,Fem,Sing>),\n",
       " DocToken(start=25, stop=30, text='Йоэль', id='1_5', head_id='1_1', rel='appos', pos='PROPN', feats=<Anim,Nom,Masc,Sing>)]"
      ]
     },
     "metadata": {},
     "output_type": "display_data"
    }
   ],
   "source": [
    "doc.tag_morph(morph_tagger)\n",
    "doc.parse_syntax(syntax_parser)\n",
    "display(doc.tokens[:5])"
   ]
  },
  {
   "cell_type": "markdown",
   "metadata": {},
   "source": [
    "After applying `ner_tagger` doc gets `spans` field with PER, LOC, ORG annotation:"
   ]
  },
  {
   "cell_type": "code",
   "execution_count": 5,
   "metadata": {},
   "outputs": [
    {
     "data": {
      "text/plain": [
       "[DocSpan(start=6, stop=13, type='LOC', text='Израиля', tokens=[...]),\n",
       " DocSpan(start=17, stop=24, type='LOC', text='Украине', tokens=[...]),\n",
       " DocSpan(start=25, stop=35, type='PER', text='Йоэль Лион', tokens=[...]),\n",
       " DocSpan(start=89, stop=106, type='LOC', text='Львовской области', tokens=[...]),\n",
       " DocSpan(start=152, stop=158, type='LOC', text='России', tokens=[...])]"
      ]
     },
     "metadata": {},
     "output_type": "display_data"
    }
   ],
   "source": [
    "doc.tag_ner(ner_tagger)\n",
    "display(doc.spans[:5])"
   ]
  },
  {
   "cell_type": "markdown",
   "metadata": {},
   "source": [
    "## Visualizations"
   ]
  },
  {
   "cell_type": "markdown",
   "metadata": {},
   "source": [
    "Natasha wraps <a href=\"https://github.com/natasha/ipymarkup\">Ipymarkup</a> to provide ASCII visualizations for morphology, syntax and NER annotations. `doc` and `sents` have 3 methods: `morph.print()`, `syntax.print()` and `ner.print()`:"
   ]
  },
  {
   "cell_type": "code",
   "execution_count": 6,
   "metadata": {},
   "outputs": [
    {
     "name": "stdout",
     "output_type": "stream",
     "text": [
      "Посол Израиля на Украине Йоэль Лион признался, что пришел в шок, узнав\n",
      "      LOC────    LOC──── PER───────                                   \n",
      " о решении властей Львовской области объявить 2019 год годом лидера \n",
      "                   LOC──────────────                                \n",
      "запрещенной в России Организации украинских националистов (ОУН) \n",
      "              LOC─── ORG─────────────────────────────────────── \n",
      "Степана Бандеры. Свое заявление он разместил в Twitter. «Я не могу \n",
      "PER────────────                                ORG────             \n",
      "понять, как прославление тех, кто непосредственно принимал участие в \n",
      "ужасных антисемитских преступлениях, помогает бороться с \n",
      "антисемитизмом и ксенофобией. Украина не должна забывать о \n",
      "                              LOC────                      \n",
      "преступлениях, совершенных против украинских евреев, и никоим образом \n",
      "не отмечать их через почитание их исполнителей», — написал дипломат. \n",
      "11 декабря Львовский областной совет принял решение провозгласить 2019\n",
      "           ORG──────────────────────                                  \n",
      " год в регионе годом Степана Бандеры в связи с празднованием 110-летия\n",
      "                     PER────────────                                  \n",
      " со дня рождения лидера ОУН (Бандера родился 1 января 1909 года). В \n",
      "                        ORG                                         \n",
      "июле аналогичное решение принял Житомирский областной совет. В начале \n",
      "                                ORG────────────────────────           \n",
      "месяца с предложением к президенту страны Петру Порошенко вернуть \n",
      "                                          PER────────────         \n",
      "Бандере звание Героя Украины обратились депутаты Верховной Рады. \n",
      "PER────              LOC────                     ORG───────────  \n",
      "Парламентарии уверены, что признание Бандеры национальным героем \n",
      "                                     PER────                     \n",
      "поможет в борьбе с подрывной деятельностью против Украины в \n",
      "                                                  LOC────   \n",
      "информационном поле, а также остановит «распространение мифов, \n",
      "созданных российской пропагандой». Степан Бандера (1909-1959) был \n",
      "                                   PER───────────                 \n",
      "одним из лидеров Организации украинских националистов, выступающей за \n",
      "                 ORG─────────────────────────────────                 \n",
      "создание независимого государства на территориях с украиноязычным \n",
      "населением. В 2010 году в период президентства Виктора Ющенко Бандера \n",
      "                                               PER─────────── PER──── \n",
      "был посмертно признан Героем Украины, однако впоследствии это решение \n",
      "                             LOC────                                  \n",
      "было отменено судом. \n"
     ]
    }
   ],
   "source": [
    "doc.ner.print()"
   ]
  },
  {
   "cell_type": "code",
   "execution_count": 8,
   "metadata": {},
   "outputs": [
    {
     "name": "stdout",
     "output_type": "stream",
     "text": [
      "               Посол NOUN|Animacy=Anim|Case=Nom|Gender=Masc|Number=Sing\n",
      "             Израиля PROPN|Animacy=Inan|Case=Gen|Gender=Masc|Number=Sing\n",
      "                  на ADP\n",
      "             Украине PROPN|Animacy=Inan|Case=Loc|Gender=Fem|Number=Sing\n",
      "               Йоэль PROPN|Animacy=Anim|Case=Nom|Gender=Masc|Number=Sing\n",
      "                Лион PROPN|Animacy=Anim|Case=Nom|Gender=Masc|Number=Sing\n",
      "           признался VERB|Aspect=Perf|Gender=Masc|Mood=Ind|Number=Sing|Tense=Past|VerbForm=Fin|Voice=Mid\n",
      "                   , PUNCT\n",
      "                 что SCONJ\n",
      "              пришел VERB|Aspect=Perf|Gender=Masc|Mood=Ind|Number=Sing|Tense=Past|VerbForm=Fin|Voice=Act\n",
      "                   в ADP\n",
      "                 шок NOUN|Animacy=Inan|Case=Acc|Gender=Masc|Number=Sing\n",
      "                   , PUNCT\n",
      "               узнав VERB|Aspect=Perf|Tense=Past|VerbForm=Conv|Voice=Act\n",
      "                   о ADP\n",
      "             решении NOUN|Animacy=Inan|Case=Loc|Gender=Neut|Number=Sing\n",
      "             властей NOUN|Animacy=Inan|Case=Gen|Gender=Fem|Number=Plur\n",
      "           Львовской ADJ|Case=Gen|Degree=Pos|Gender=Fem|Number=Sing\n",
      "             области NOUN|Animacy=Inan|Case=Gen|Gender=Fem|Number=Sing\n",
      "            объявить VERB|Aspect=Perf|VerbForm=Inf|Voice=Act\n",
      "                2019 ADJ\n",
      "                 год NOUN|Animacy=Inan|Case=Acc|Gender=Masc|Number=Sing\n",
      "               годом NOUN|Animacy=Inan|Case=Ins|Gender=Masc|Number=Sing\n",
      "              лидера NOUN|Animacy=Anim|Case=Gen|Gender=Masc|Number=Sing\n",
      "         запрещенной VERB|Aspect=Perf|Case=Gen|Gender=Fem|Number=Sing|Tense=Past|VerbForm=Part|Voice=Pass\n",
      "                   в ADP\n",
      "              России PROPN|Animacy=Inan|Case=Loc|Gender=Fem|Number=Sing\n",
      "         Организации PROPN|Animacy=Inan|Case=Gen|Gender=Fem|Number=Sing\n",
      "          украинских ADJ|Case=Gen|Degree=Pos|Number=Plur\n",
      "       националистов NOUN|Animacy=Anim|Case=Gen|Gender=Masc|Number=Plur\n",
      "                   ( PUNCT\n",
      "                 ОУН PROPN|Animacy=Inan|Case=Nom|Gender=Fem|Number=Sing\n",
      "                   ) PUNCT\n",
      "             Степана PROPN|Animacy=Anim|Case=Gen|Gender=Masc|Number=Sing\n",
      "             Бандеры PROPN|Animacy=Anim|Case=Gen|Gender=Masc|Number=Sing\n",
      "                   . PUNCT\n"
     ]
    }
   ],
   "source": [
    "sent = doc.sents[0]\n",
    "sent.morph.print()"
   ]
  },
  {
   "cell_type": "code",
   "execution_count": 9,
   "metadata": {
    "scrolled": false
   },
   "outputs": [
    {
     "name": "stdout",
     "output_type": "stream",
     "text": [
      "        ┌──► Посол         nsubj\n",
      "        │    Израиля       \n",
      "        │ ┌► на            case\n",
      "        │ └─ Украине       \n",
      "        │ ┌─ Йоэль         \n",
      "        │ └► Лион          flat:name\n",
      "┌─────┌─└─── признался     \n",
      "│     │ ┌──► ,             punct\n",
      "│     │ │ ┌► что           mark\n",
      "│     └►└─└─ пришел        ccomp\n",
      "│     │   ┌► в             case\n",
      "│     └──►└─ шок           obl\n",
      "│         ┌► ,             punct\n",
      "│ ┌────►┌─└─ узнав         advcl\n",
      "│ │     │ ┌► о             case\n",
      "│ │ ┌───└►└─ решении       obl\n",
      "│ │ │ ┌─└──► властей       nmod\n",
      "│ │ │ │   ┌► Львовской     amod\n",
      "│ │ │ └──►└─ области       nmod\n",
      "│ └─└►┌─┌─── объявить      nmod\n",
      "│     │ │ ┌► 2019          amod\n",
      "│     │ └►└─ год           obj\n",
      "│     └──►┌─ годом         obl\n",
      "│   ┌─────└► лидера        nmod\n",
      "│   │ ┌►┌─── запрещенной   acl\n",
      "│   │ │ │ ┌► в             case\n",
      "│   │ │ └►└─ России        obl\n",
      "│ ┌─└►└─┌─── Организации   nmod\n",
      "│ │     │ ┌► украинских    amod\n",
      "│ │   ┌─└►└─ националистов nmod\n",
      "│ │   │   ┌► (             punct\n",
      "│ │   └►┌─└─ ОУН           parataxis\n",
      "│ │     └──► )             punct\n",
      "│ └──────►┌─ Степана       appos\n",
      "│         └► Бандеры       flat:name\n",
      "└──────────► .             punct\n"
     ]
    }
   ],
   "source": [
    "sent.syntax.print()"
   ]
  },
  {
   "cell_type": "markdown",
   "metadata": {},
   "source": [
    "## Lemmatization"
   ]
  },
  {
   "cell_type": "markdown",
   "metadata": {},
   "source": [
    "Tokens have `lemmatize` method, it uses `pos` and `feats` assigned by `morph_tagger` to get word normal form. `morph_vocab` is just a wrapper for <a href=\"https://pymorphy2.readthedocs.io/en/latest/\">Pymorphy2</a>:"
   ]
  },
  {
   "cell_type": "code",
   "execution_count": 10,
   "metadata": {},
   "outputs": [
    {
     "data": {
      "text/plain": [
       "{'Посол': 'посол',\n",
       " 'Израиля': 'израиль',\n",
       " 'на': 'на',\n",
       " 'Украине': 'украина',\n",
       " 'Йоэль': 'йоэль',\n",
       " 'Лион': 'лион',\n",
       " 'признался': 'признаться',\n",
       " ',': ',',\n",
       " 'что': 'что',\n",
       " 'пришел': 'прийти',\n",
       " 'в': 'в',\n",
       " 'шок': 'шок',\n",
       " 'узнав': 'узнать',\n",
       " 'о': 'о',\n",
       " 'решении': 'решение',\n",
       " 'властей': 'власть',\n",
       " 'Львовской': 'львовский',\n",
       " 'области': 'область',\n",
       " 'объявить': 'объявить',\n",
       " '2019': '2019',\n",
       " 'год': 'год',\n",
       " 'годом': 'год',\n",
       " 'лидера': 'лидер',\n",
       " 'запрещенной': 'запретить',\n",
       " 'России': 'россия',\n",
       " 'Организации': 'организация',\n",
       " 'украинских': 'украинский',\n",
       " 'националистов': 'националист'}"
      ]
     },
     "execution_count": 10,
     "metadata": {},
     "output_type": "execute_result"
    }
   ],
   "source": [
    "for token in doc.tokens:\n",
    "    token.lemmatize(morph_vocab)\n",
    "    \n",
    "{_.text: _.lemma for _ in doc.tokens[:30]}"
   ]
  },
  {
   "cell_type": "markdown",
   "metadata": {},
   "source": [
    "## Phrase normalization"
   ]
  },
  {
   "cell_type": "markdown",
   "metadata": {},
   "source": [
    "Consider phrase \"Организации украинских националистов\", one can not just inflect every word independently to get normal form: \"Организация украинский националист\". Spans have method `normalize` that uses syntax annotation by `syntax_parser` to inflect phrases:"
   ]
  },
  {
   "cell_type": "code",
   "execution_count": 12,
   "metadata": {
    "scrolled": false
   },
   "outputs": [
    {
     "data": {
      "text/plain": [
       "{'Израиля': 'Израиль',\n",
       " 'Украине': 'Украина',\n",
       " 'Йоэль Лион': 'Йоэль Лион',\n",
       " 'Львовской области': 'Львовская область',\n",
       " 'России': 'Россия',\n",
       " 'Организации украинских националистов (ОУН)': 'Организация украинских националистов (ОУН)',\n",
       " 'Степана Бандеры': 'Степан Бандера',\n",
       " 'Twitter': 'Twitter',\n",
       " 'Украина': 'Украина',\n",
       " 'Львовский областной совет': 'Львовский областной совет',\n",
       " 'ОУН': 'ОУН',\n",
       " 'Житомирский областной совет': 'Житомирский областной совет',\n",
       " 'Петру Порошенко': 'Петр Порошенко',\n",
       " 'Бандере': 'Бандера',\n",
       " 'Украины': 'Украина',\n",
       " 'Верховной Рады': 'Верховная Рада',\n",
       " 'Бандеры': 'Бандера',\n",
       " 'Степан Бандера': 'Степан Бандера',\n",
       " 'Организации украинских националистов': 'Организация украинских националистов',\n",
       " 'Виктора Ющенко': 'Виктор Ющенко',\n",
       " 'Бандера': 'Бандера'}"
      ]
     },
     "execution_count": 12,
     "metadata": {},
     "output_type": "execute_result"
    }
   ],
   "source": [
    "for span in doc.spans:\n",
    "    span.normalize(morph_vocab)\n",
    "    \n",
    "{_.text: _.normal for _ in doc.spans}"
   ]
  },
  {
   "cell_type": "markdown",
   "metadata": {},
   "source": [
    "## Fact extraction"
   ]
  },
  {
   "cell_type": "markdown",
   "metadata": {},
   "source": [
    "To split names like \"Виктор Ющенко\", \"Бандера\" and \"Йоэль Лион\" into parts use `names_extractor` and spans method `extract_fact`:"
   ]
  },
  {
   "cell_type": "code",
   "execution_count": 13,
   "metadata": {},
   "outputs": [
    {
     "data": {
      "text/plain": [
       "{'Йоэль Лион': {'first': 'Йоэль', 'last': 'Лион'},\n",
       " 'Степан Бандера': {'first': 'Степан', 'last': 'Бандера'},\n",
       " 'Петр Порошенко': {'first': 'Петр', 'last': 'Порошенко'},\n",
       " 'Бандера': {'last': 'Бандера'},\n",
       " 'Виктор Ющенко': {'first': 'Виктор', 'last': 'Ющенко'}}"
      ]
     },
     "execution_count": 13,
     "metadata": {},
     "output_type": "execute_result"
    }
   ],
   "source": [
    "for span in doc.spans:\n",
    "    if span.type == PER:\n",
    "        span.extract_fact(names_extractor)\n",
    "    \n",
    "{_.normal: _.fact.as_dict for _ in doc.spans if _.fact}"
   ]
  },
  {
   "cell_type": "markdown",
   "metadata": {},
   "source": [
    "# Reference"
   ]
  },
  {
   "cell_type": "markdown",
   "metadata": {},
   "source": [
    "One may use Natasha components independently. It is not mandatory to construct `Doc` object."
   ]
  },
  {
   "cell_type": "markdown",
   "metadata": {},
   "source": [
    "## `Segmenter`"
   ]
  },
  {
   "cell_type": "markdown",
   "metadata": {},
   "source": [
    "`Segmenter` is just a wrapper for <a href=\"https://github.com/natasha/razdel\">Razdel</a>, it has two methods `tokenize` and `sentenize`:"
   ]
  },
  {
   "cell_type": "code",
   "execution_count": 14,
   "metadata": {},
   "outputs": [
    {
     "name": "stdout",
     "output_type": "stream",
     "text": [
      "Token(start=0, stop=13, text='Кружка-термос')\n",
      "Token(start=14, stop=16, text='на')\n",
      "Token(start=17, stop=20, text='0.5')\n",
      "Token(start=20, stop=21, text='л')\n",
      "Token(start=22, stop=23, text='(')\n"
     ]
    }
   ],
   "source": [
    "tokens = list(segmenter.tokenize('Кружка-термос на 0.5л (50/64 см³, 516;...)'))\n",
    "for token in tokens[:5]:\n",
    "    print(token)"
   ]
  },
  {
   "cell_type": "code",
   "execution_count": 15,
   "metadata": {},
   "outputs": [
    {
     "name": "stdout",
     "output_type": "stream",
     "text": [
      "Sent(start=0, stop=218, text='Посол Израиля на Украине Йоэль Лион признался, что пришел в шок, узнав о решении властей Львовской области объявить 2019 год годом лидера запрещенной в России Организации украинских националистов (ОУН) Степана Бандеры.')\n",
      "Sent(start=219, stop=257, text='Свое заявление он разместил в Twitter.')\n",
      "Sent(start=258, stop=424, text='«Я не могу понять, как прославление тех, кто непосредственно принимал участие в ужасных антисемитских преступлениях, помогает бороться с антисемитизмом и ксенофобией.')\n",
      "Sent(start=425, stop=592, text='Украина не должна забывать о преступлениях, совершенных против украинских евреев, и никоим образом не отмечать их через почитание их исполнителей», — написал дипломат.')\n",
      "Sent(start=593, stop=798, text='11 декабря Львовский областной совет принял решение провозгласить 2019 год в регионе годом Степана Бандеры в связи с празднованием 110-летия со дня рождения лидера ОУН (Бандера родился 1 января 1909 года).')\n",
      "Sent(start=799, stop=861, text='В июле аналогичное решение принял Житомирский областной совет.')\n",
      "Sent(start=862, stop=1001, text='В начале месяца с предложением к президенту страны Петру Порошенко вернуть Бандере звание Героя Украины обратились депутаты Верховной Рады.')\n",
      "Sent(start=1002, stop=1224, text='Парламентарии уверены, что признание Бандеры национальным героем поможет в борьбе с подрывной деятельностью против Украины в информационном поле, а также остановит «распространение мифов, созданных российской пропагандой».')\n",
      "Sent(start=1225, stop=1403, text='Степан Бандера (1909-1959) был одним из лидеров Организации украинских националистов, выступающей за создание независимого государства на территориях с украиноязычным населением.')\n",
      "Sent(start=1404, stop=1552, text='В 2010 году в период президентства Виктора Ющенко Бандера был посмертно признан Героем Украины, однако впоследствии это решение было отменено судом.')\n"
     ]
    }
   ],
   "source": [
    "# text = '''\n",
    "# - \"Так в чем же дело?\" - \"Не ра-ду-ют\".\n",
    "#  И т. д. и т. п. В общем, вся газета\n",
    "# '''\n",
    "sents = list(segmenter.sentenize(text))\n",
    "for sent in sents:\n",
    "    print(sent)"
   ]
  },
  {
   "cell_type": "markdown",
   "metadata": {},
   "source": [
    "## `MorphVocab`"
   ]
  },
  {
   "cell_type": "markdown",
   "metadata": {},
   "source": [
    "`MorphVocab` is a wrapper for <a href=\"pymorphy2.readthedocs.io/en/latest/\">Pymorphy2</a>. `MorphVocab` adds cache and adapts grammems to Universal Dependencies format:"
   ]
  },
  {
   "cell_type": "code",
   "execution_count": 16,
   "metadata": {},
   "outputs": [
    {
     "data": {
      "text/plain": [
       "[MorphForm(normal='стать', pos='VERB', feats={'VerbForm': 'Fin', 'Aspect': 'Perf', 'Number': 'Plur', 'Tense': 'Past', 'Mood': 'Ind'}),\n",
       " MorphForm(normal='сталь', pos='NOUN', feats={'Animacy': 'Inan', 'Gender': 'Fem', 'Number': 'Sing', 'Case': 'Gen'}),\n",
       " MorphForm(normal='сталь', pos='NOUN', feats={'Animacy': 'Inan', 'Gender': 'Fem', 'Number': 'Sing', 'Case': 'Dat'}),\n",
       " MorphForm(normal='сталь', pos='NOUN', feats={'Animacy': 'Inan', 'Gender': 'Fem', 'Number': 'Sing', 'Case': 'Loc'}),\n",
       " MorphForm(normal='сталь', pos='NOUN', feats={'Animacy': 'Inan', 'Gender': 'Fem', 'Number': 'Plur', 'Case': 'Nom'}),\n",
       " MorphForm(normal='сталь', pos='NOUN', feats={'Animacy': 'Inan', 'Gender': 'Fem', 'Number': 'Plur', 'Case': 'Acc'})]"
      ]
     },
     "execution_count": 16,
     "metadata": {},
     "output_type": "execute_result"
    }
   ],
   "source": [
    "forms = morph_vocab('стали')\n",
    "forms"
   ]
  },
  {
   "cell_type": "code",
   "execution_count": 17,
   "metadata": {},
   "outputs": [
    {
     "data": {
      "text/plain": [
       "CacheInfo(hits=239, misses=634, maxsize=10000, currsize=634)"
      ]
     },
     "execution_count": 17,
     "metadata": {},
     "output_type": "execute_result"
    }
   ],
   "source": [
    "morph_vocab.__call__.cache_info()"
   ]
  },
  {
   "cell_type": "markdown",
   "metadata": {},
   "source": [
    "Also `MorphVocab` adds method `lemmatize`. Given `pos` and `feats` it selects the most suitable morph form and returns its `normal` field:"
   ]
  },
  {
   "cell_type": "code",
   "execution_count": 18,
   "metadata": {},
   "outputs": [
    {
     "data": {
      "text/plain": [
       "'стать'"
      ]
     },
     "execution_count": 18,
     "metadata": {},
     "output_type": "execute_result"
    }
   ],
   "source": [
    "morph_vocab.lemmatize('стали', 'VERB', {})"
   ]
  },
  {
   "cell_type": "code",
   "execution_count": 19,
   "metadata": {},
   "outputs": [
    {
     "data": {
      "text/plain": [
       "'сталь'"
      ]
     },
     "execution_count": 19,
     "metadata": {},
     "output_type": "execute_result"
    }
   ],
   "source": [
    "morph_vocab.lemmatize('стали', 'X', {'Case': 'Gen'})"
   ]
  },
  {
   "cell_type": "markdown",
   "metadata": {},
   "source": [
    "## `Embedding`"
   ]
  },
  {
   "cell_type": "markdown",
   "metadata": {},
   "source": [
    "`Embedding` is a wrapper for <a href=\"https://github.com/natasha/navec/\">Navec</a> — compact pretrained word embeddings for Russian language:"
   ]
  },
  {
   "cell_type": "code",
   "execution_count": 20,
   "metadata": {},
   "outputs": [
    {
     "name": "stdout",
     "output_type": "stream",
     "text": [
      "Words in vocab + 2 for pad and unk: 250002\n"
     ]
    }
   ],
   "source": [
    "print('Words in vocab + 2 for pad and unk: %d' % len(emb.vocab.words) )"
   ]
  },
  {
   "cell_type": "code",
   "execution_count": 27,
   "metadata": {},
   "outputs": [
    {
     "data": {
      "text/plain": [
       "array([-4.27272737e-01,  6.87549114e-01,  4.40512747e-01,  2.17762515e-01,\n",
       "       -1.95004210e-01,  1.73079148e-01,  9.91745573e-03,  4.18423414e-02,\n",
       "       -6.39119446e-02, -5.02835929e-01,  7.31137246e-02, -4.38279688e-01,\n",
       "       -2.33864665e-01,  3.85931171e-02,  6.10735156e-02,  8.62136409e-02,\n",
       "        8.52477431e-01,  2.84970384e-02, -2.25771606e-01,  9.02989879e-02,\n",
       "       -6.50790811e-01, -2.00142935e-02, -2.36029446e-01,  5.99771831e-03,\n",
       "       -6.89393699e-01,  1.17030121e-01, -3.51317316e-01,  2.68402278e-01,\n",
       "       -2.50863969e-01,  4.98451233e-01,  1.31768718e-01, -6.11520827e-01,\n",
       "        3.98125112e-01, -2.25559071e-01,  7.71434456e-02, -8.18602592e-02,\n",
       "       -8.47006738e-01, -4.94974077e-01,  3.14322025e-01, -4.87938374e-02,\n",
       "        4.21800822e-01,  4.79611635e-01, -9.15634990e-01, -1.68828622e-01,\n",
       "        4.04541194e-02,  5.06230481e-02, -4.72999290e-02, -9.65936407e-02,\n",
       "       -6.27369881e-01, -2.34400466e-01,  2.58884966e-01, -3.20548624e-01,\n",
       "       -5.63622117e-01, -7.00449795e-02, -4.68812525e-01, -1.85629770e-01,\n",
       "        3.45098555e-01,  1.14654899e-01, -1.99378148e-01,  5.44390082e-01,\n",
       "       -5.71561098e-01, -2.96889335e-01,  2.38664836e-01,  1.72248453e-01,\n",
       "       -6.70269504e-02,  3.49032253e-01,  1.52984977e-01,  2.07412392e-01,\n",
       "        6.97167397e-01,  1.19957160e-02,  8.55679750e-01,  2.20498353e-01,\n",
       "        6.28366396e-02,  9.41248909e-02,  1.85205668e-01, -1.62220433e-01,\n",
       "       -3.79626602e-02, -1.73864678e-01, -3.67773324e-01, -2.59474009e-01,\n",
       "       -4.58587348e-01,  3.03909302e-01,  5.18766284e-01,  8.41704965e-01,\n",
       "       -4.30347502e-01, -3.68009984e-01, -6.50312603e-01,  4.42211032e-01,\n",
       "       -2.90842116e-01,  9.26878750e-02, -4.47222561e-01,  2.90508848e-02,\n",
       "       -1.95495710e-01, -6.15970157e-02,  2.52020322e-02,  1.34293079e-01,\n",
       "        2.59321332e-01,  1.51295140e-01, -2.56319761e-01, -3.52568001e-01,\n",
       "       -1.43560544e-01, -6.65494502e-02, -3.68155986e-01, -9.59500298e-02,\n",
       "        2.28283450e-01,  1.04586273e-01,  7.33478134e-03,  8.15799981e-02,\n",
       "        1.38648421e-01, -3.63584131e-01, -5.86529672e-01,  2.78918117e-01,\n",
       "        5.68660535e-03, -4.33065474e-01,  7.83693373e-01,  2.60999441e-01,\n",
       "        7.69672021e-02,  9.85150099e-01,  3.49989474e-01,  8.62086788e-02,\n",
       "        3.67230833e-01, -3.16067696e-01,  3.56122404e-02,  2.16164798e-01,\n",
       "       -1.79796323e-01, -1.86137989e-01,  2.44086653e-01,  4.93053049e-01,\n",
       "       -2.84714490e-01,  3.67588699e-01, -4.76294965e-01,  5.39298058e-01,\n",
       "       -5.01929666e-04, -4.08326089e-01, -2.25947723e-01, -1.00271888e-01,\n",
       "        3.07762593e-01,  1.33587942e-01, -7.41210461e-01, -5.13808489e-01,\n",
       "       -3.87575924e-01, -1.22604936e-01,  1.10620044e-01, -7.71113262e-02,\n",
       "        4.49576169e-01, -4.81881052e-01, -4.11226809e-01,  3.15166771e-01,\n",
       "       -4.31591757e-02, -2.89509267e-01, -4.31176163e-02, -3.89274321e-02,\n",
       "       -4.67857480e-01,  1.47817090e-01, -7.16353282e-02, -6.73905611e-01,\n",
       "       -1.57287329e-01,  7.22769141e-01,  4.69949916e-02, -1.25530899e-01,\n",
       "       -3.95036250e-01,  7.08034575e-01, -5.39849997e-01, -6.15033470e-02,\n",
       "        1.80065349e-01, -1.88953668e-01, -3.31426889e-01,  6.02473557e-01,\n",
       "       -1.38526931e-01,  2.34203145e-01, -3.24629217e-01, -8.01283836e-01,\n",
       "        5.74987292e-01,  9.60326195e-02,  2.72419721e-01,  1.18923867e+00,\n",
       "        1.46913365e-01, -4.89682585e-01, -1.39966831e-01,  1.45416752e-01,\n",
       "        1.35907829e-01, -8.87122378e-02, -1.71271022e-02, -3.43164176e-01,\n",
       "        3.24203371e-04,  1.53474510e-01, -6.89689577e-01,  1.86985976e-03,\n",
       "       -6.22227073e-01,  9.55178440e-02,  2.59548455e-01, -8.31747502e-02,\n",
       "        1.02622783e+00,  1.89914539e-01, -7.38670081e-02, -1.99375600e-01,\n",
       "       -1.27032116e-01, -1.17267491e-02, -4.14936125e-01, -4.38618422e-01,\n",
       "       -1.52974263e-01, -2.96355307e-01,  1.30612445e+00,  1.68098379e-02,\n",
       "       -2.05930322e-01,  4.14507002e-01,  1.21081285e-01,  8.42058361e-01,\n",
       "        1.36394307e-01, -3.38765472e-01, -3.18763465e-01, -7.74735034e-01,\n",
       "        2.31527939e-01, -6.13431968e-02,  3.00562158e-02, -2.46757083e-02,\n",
       "        1.18351936e-01, -1.90347418e-01, -8.14971268e-01,  2.53847033e-01,\n",
       "       -2.18160316e-01,  1.86349824e-01, -3.76351885e-02,  3.64491820e-01,\n",
       "       -5.37944376e-01,  1.71281323e-01, -1.53162032e-01, -3.45724896e-02,\n",
       "        1.99000344e-01,  2.62531251e-01,  7.97585487e-01, -3.05089176e-01,\n",
       "        1.51569471e-01,  2.30833381e-01,  1.81147888e-01,  1.53263330e-01,\n",
       "        2.34635115e-01, -6.36917591e-01, -1.86650187e-01, -3.53216797e-01,\n",
       "        5.85994899e-01, -1.05808496e-01,  3.43474120e-01,  1.94720238e-01,\n",
       "       -3.13703418e-02, -3.12594354e-01, -2.18030527e-01,  9.76433218e-01,\n",
       "       -1.33139193e-01, -3.52905273e-01, -1.02997564e-01, -6.82603568e-02,\n",
       "       -2.16473058e-01, -6.27287477e-02, -3.17475706e-01, -3.30540121e-01,\n",
       "       -3.98012161e-01,  2.83415943e-01,  3.12822402e-01, -5.64869978e-02,\n",
       "        1.47660468e-02, -3.81467223e-01,  7.79089555e-02,  5.88557303e-01,\n",
       "        5.05493879e-01,  6.17714562e-02,  7.65488446e-01, -3.26815605e-01,\n",
       "       -4.27082628e-02, -3.75037730e-01, -1.45310983e-01,  2.85650969e-01,\n",
       "       -1.54167235e-01, -3.33540112e-01,  5.84989488e-01, -2.54765183e-01,\n",
       "       -2.52342999e-01,  4.86941164e-04,  9.25026685e-02, -2.23826066e-01,\n",
       "        5.75174987e-01,  5.88172257e-01,  9.77993757e-02, -6.26457036e-01,\n",
       "       -3.05870771e-01,  1.87670290e-01, -5.91095746e-01,  2.87538439e-01,\n",
       "       -1.67927518e-01,  4.52736467e-02, -3.94864678e-01,  4.32846636e-01,\n",
       "       -3.68088752e-01, -1.05363354e-01, -2.33350188e-01,  4.37229693e-01,\n",
       "        5.04526734e-01, -9.61071253e-02,  3.74195933e-01,  6.02446496e-02],\n",
       "      dtype=float32)"
      ]
     },
     "execution_count": 27,
     "metadata": {},
     "output_type": "execute_result"
    }
   ],
   "source": [
    "emb['путин']"
   ]
  },
  {
   "cell_type": "code",
   "execution_count": 23,
   "metadata": {},
   "outputs": [
    {
     "data": {
      "text/plain": [
       "300"
      ]
     },
     "execution_count": 23,
     "metadata": {},
     "output_type": "execute_result"
    }
   ],
   "source": [
    "len(emb['путин'])"
   ]
  },
  {
   "cell_type": "markdown",
   "metadata": {},
   "source": [
    "## `MorphTagger`"
   ]
  },
  {
   "cell_type": "markdown",
   "metadata": {},
   "source": [
    "`MorphTagger` wraps <a href=\"https://github.com/natasha/slovnet\">Slovnet morphology tagger</a>. Tagger has list of words as input and returns markup object. Markup has `print` method that outputs morph tags ASCII visualization:"
   ]
  },
  {
   "cell_type": "code",
   "execution_count": 22,
   "metadata": {},
   "outputs": [
    {
     "name": "stdout",
     "output_type": "stream",
     "text": [
      "         Европейский ADJ|Case=Nom|Degree=Pos|Gender=Masc|Number=Sing\n",
      "                союз NOUN|Animacy=Inan|Case=Nom|Gender=Masc|Number=Sing\n",
      "             добавил VERB|Aspect=Perf|Gender=Masc|Mood=Ind|Number=Sing|Tense=Past|VerbForm=Fin|Voice=Act\n",
      "                   в ADP\n",
      "         санкционный ADJ|Animacy=Inan|Case=Acc|Degree=Pos|Gender=Masc|Number=Sing\n",
      "              список NOUN|Animacy=Inan|Case=Acc|Gender=Masc|Number=Sing\n",
      "              девять NUM|Case=Nom\n",
      "        политических ADJ|Case=Gen|Degree=Pos|Number=Plur\n",
      "            деятелей NOUN|Animacy=Anim|Case=Gen|Gender=Masc|Number=Plur\n"
     ]
    }
   ],
   "source": [
    "words = ['Европейский', 'союз', 'добавил', 'в', 'санкционный', 'список', 'девять', 'политических', 'деятелей']\n",
    "markup = morph_tagger(words)\n",
    "markup.print()"
   ]
  },
  {
   "cell_type": "markdown",
   "metadata": {},
   "source": [
    "## `SyntaxParser`"
   ]
  },
  {
   "cell_type": "markdown",
   "metadata": {},
   "source": [
    "`SyntaxParser` wraps <a href=\"https://github.com/natasha/slovnet\">Slovnet syntax parser</a>. Interface is similar to `MorphTagger`:"
   ]
  },
  {
   "cell_type": "code",
   "execution_count": 28,
   "metadata": {},
   "outputs": [
    {
     "name": "stdout",
     "output_type": "stream",
     "text": [
      "      ┌► Европейский  amod\n",
      "    ┌►└─ союз         nsubj\n",
      "  ┌─└─── добавил      \n",
      "  │ ┌──► в            case\n",
      "  │ │ ┌► санкционный  amod\n",
      "┌─└►└─└─ список       obl\n",
      "│   ┌──► девять       nummod:gov\n",
      "│   │ ┌► политических amod\n",
      "└──►└─└─ деятелей     nmod\n"
     ]
    }
   ],
   "source": [
    "words = ['Европейский', 'союз', 'добавил', 'в', 'санкционный', 'список', 'девять', 'политических', 'деятелей']\n",
    "markup = syntax_parser(words)\n",
    "markup.print()"
   ]
  },
  {
   "cell_type": "markdown",
   "metadata": {},
   "source": [
    "## `NERTagger`"
   ]
  },
  {
   "cell_type": "markdown",
   "metadata": {},
   "source": [
    "`NERTagger` wraps <a href=\"https://github.com/natasha/slovnet\">Slovnet NER tagger</a>. Interface is similar to `MorphTagger` but has untokenized text as input:"
   ]
  },
  {
   "cell_type": "code",
   "execution_count": 29,
   "metadata": {},
   "outputs": [
    {
     "name": "stdout",
     "output_type": "stream",
     "text": [
      "Посол Израиля на Украине Йоэль Лион признался, что пришел в шок, узнав\n",
      "      LOC────    LOC──── PER───────                                   \n",
      " о решении властей Львовской области объявить 2019 год годом лидера \n",
      "                   LOC──────────────                                \n",
      "запрещенной в России Организации украинских националистов (ОУН) \n",
      "              LOC─── ORG─────────────────────────────────────── \n",
      "Степана Бандеры. Свое заявление он разместил в Twitter. 11 декабря \n",
      "PER────────────                                ORG────             \n",
      "Львовский областной совет принял решение провозгласить 2019 год в \n",
      "ORG──────────────────────                                         \n",
      "регионе годом Степана Бандеры в связи с празднованием 110-летия со дня\n",
      "              PER────────────                                         \n",
      " рождения лидера ОУН (Бандера родился 1 января 1909 года).\n",
      "                 ORG                                      \n",
      "Span(start=25, stop=35, type='PER')\n",
      "Span(start=17, stop=24, type='LOC')\n",
      "LOC Украине\n"
     ]
    }
   ],
   "source": [
    "text = 'Посол Израиля на Украине Йоэль Лион признался, что пришел в шок, узнав о решении властей Львовской области объявить 2019 год годом лидера запрещенной в России Организации украинских националистов (ОУН) Степана Бандеры. Свое заявление он разместил в Twitter. 11 декабря Львовский областной совет принял решение провозгласить 2019 год в регионе годом Степана Бандеры в связи с празднованием 110-летия со дня рождения лидера ОУН (Бандера родился 1 января 1909 года).'\n",
    "markup = ner_tagger(text)\n",
    "markup.print()\n",
    "print(markup.spans[2])\n",
    "text[25:35]\n",
    "print(markup.spans[1])\n",
    "print(markup.spans[1].type, text[markup.spans[1].start:markup.spans[1].stop])"
   ]
  },
  {
   "cell_type": "markdown",
   "metadata": {},
   "source": [
    "## `Extractor`"
   ]
  },
  {
   "cell_type": "markdown",
   "metadata": {},
   "source": [
    "In addition to `names_extractor` Natasha bundles several other extractors: `dates_extractor`, `money_extractor` and `addr_extractor`. All extractors are based on <a href=\"https://github.com/natasha/yargy\">Yargy-parser</a>, meaning that they work correctly only on small predefined set of texts. For realword tasks consider writing your own grammar, see <a href=\"https://github.com/natasha/yargy#documentation\">Yargy docs</a> for more."
   ]
  },
  {
   "cell_type": "markdown",
   "metadata": {},
   "source": [
    "### `DatesExtractor`"
   ]
  },
  {
   "cell_type": "code",
   "execution_count": 30,
   "metadata": {},
   "outputs": [
    {
     "data": {
      "text/plain": [
       "[Match(start=0, stop=10, fact=Date(year=2017, month=1, day=24)), Match(start=12, stop=20, fact=Date(year=2015, month=None, day=None)), Match(start=22, stop=28, fact=Date(year=2014, month=None, day=None)), Match(start=30, stop=38, fact=Date(year=None, month=4, day=1)), Match(start=40, stop=51, fact=Date(year=2017, month=5, day=None)), Match(start=53, stop=68, fact=Date(year=2017, month=5, day=9))]"
      ]
     },
     "execution_count": 30,
     "metadata": {},
     "output_type": "execute_result"
    }
   ],
   "source": [
    "text = '24.01.2017, 2015 год, 2014 г, 1 апреля, май 2017 г., 9 мая 2017 года'\n",
    "list(dates_extractor(text))"
   ]
  },
  {
   "cell_type": "markdown",
   "metadata": {},
   "source": [
    "### `MoneyExtractor`"
   ]
  },
  {
   "cell_type": "code",
   "execution_count": 31,
   "metadata": {},
   "outputs": [
    {
     "data": {
      "text/plain": [
       "[Match(start=0, stop=18, fact=Money(amount=1599059.38, currency='EUR')), Match(start=20, stop=32, fact=Money(amount=420, currency='USD')), Match(start=34, stop=44, fact=Money(amount=20000000, currency='RUB')), Match(start=46, stop=54, fact=Money(amount=20000, currency='RUB')), Match(start=56, stop=133, fact=Money(amount=881913.98, currency='RUB'))]"
      ]
     },
     "execution_count": 31,
     "metadata": {},
     "output_type": "execute_result"
    }
   ],
   "source": [
    "text = '1 599 059, 38 Евро, 420 долларов, 20 млн руб, 20 т. р., 881 913 (Восемьсот восемьдесят одна тысяча девятьсот тринадцать) руб. 98 коп.'\n",
    "list(money_extractor(text))"
   ]
  },
  {
   "cell_type": "markdown",
   "metadata": {},
   "source": [
    "### `NamesExtractor`"
   ]
  },
  {
   "cell_type": "markdown",
   "metadata": {},
   "source": [
    "`names_extractor` should be applied only to spans of text. To extract single fact use method `find`:"
   ]
  },
  {
   "cell_type": "code",
   "execution_count": 32,
   "metadata": {},
   "outputs": [
    {
     "data": {
      "text/plain": [
       "Match(start=0, stop=21, fact=Name(first='Мустафа', last='Отсутствующий', middle=None))"
      ]
     },
     "metadata": {},
     "output_type": "display_data"
    },
    {
     "data": {
      "text/plain": [
       "Match(start=0, stop=12, fact=Name(first='О', last='Дерипаска', middle=None))"
      ]
     },
     "metadata": {},
     "output_type": "display_data"
    },
    {
     "data": {
      "text/plain": [
       "Match(start=0, stop=22, fact=Name(first='Фёдор', last='Шаляпин', middle='Иванович'))"
      ]
     },
     "metadata": {},
     "output_type": "display_data"
    },
    {
     "data": {
      "text/plain": [
       "Match(start=0, stop=8, fact=Name(first=None, last='Янукович', middle=None))"
      ]
     },
     "metadata": {},
     "output_type": "display_data"
    }
   ],
   "source": [
    "lines = [\n",
    "    'Отсутствующий Мустафа Джемилев увидел свет в конце',\n",
    "    'О. Дерипаска',\n",
    "    'Фёдор Иванович Шаляпин',\n",
    "    'Янукович'\n",
    "]\n",
    "for line in lines:\n",
    "    display(names_extractor.find(line))"
   ]
  },
  {
   "cell_type": "markdown",
   "metadata": {},
   "source": [
    "### `AddrExtractor`"
   ]
  },
  {
   "cell_type": "code",
   "execution_count": 35,
   "metadata": {
    "scrolled": false
   },
   "outputs": [
    {
     "data": {
      "text/plain": [
       "Match(start=0, stop=126, fact=Addr(parts=[AddrPart(value='Россия', type='страна'), AddrPart(value='Вологодская', type='область'), AddrPart(value='Череповец', type='город'), AddrPart(value='Победы', type='проспект'), AddrPart(value='692909', type='индекс'), AddrPart(value='РФ', type='страна'), AddrPart(value='Приморский', type='край'), AddrPart(value='Находка', type='город'), AddrPart(value='Добролюбова', type='улица')]))"
      ]
     },
     "metadata": {},
     "output_type": "display_data"
    },
    {
     "data": {
      "text/plain": [
       "Match(start=0, stop=29, fact=Addr(parts=[AddrPart(value='Народного Ополчения', type='улица'), AddrPart(value='9к', type='дом')]))"
      ]
     },
     "metadata": {},
     "output_type": "display_data"
    }
   ],
   "source": [
    "lines = [\n",
    "    'Россия, Вологодская обл. г. Череповец, пр.Победы 93 б, 692909, увидел с вышки РФ, Приморский край, г. Находка, ул. Добролюбова, 18',\n",
    "#     '692909, РФ, Приморский край, г. Находка, ул. Добролюбова, 18',\n",
    "    'ул. Народного Ополчения д. 9к.3'\n",
    "]\n",
    "for line in lines:\n",
    "    display(addr_extractor.find(line))"
   ]
  },
  {
   "cell_type": "code",
   "execution_count": null,
   "metadata": {},
   "outputs": [],
   "source": []
  }
 ],
 "metadata": {
  "kernelspec": {
   "display_name": "Python 3",
   "language": "python",
   "name": "python3"
  },
  "language_info": {
   "codemirror_mode": {
    "name": "ipython",
    "version": 3
   },
   "file_extension": ".py",
   "mimetype": "text/x-python",
   "name": "python",
   "nbconvert_exporter": "python",
   "pygments_lexer": "ipython3",
   "version": "3.8.5"
  }
 },
 "nbformat": 4,
 "nbformat_minor": 2
}
