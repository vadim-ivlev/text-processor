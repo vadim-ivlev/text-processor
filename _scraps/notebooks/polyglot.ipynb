{
 "cells": [
  {
   "cell_type": "code",
   "execution_count": 1,
   "metadata": {},
   "outputs": [
    {
     "name": "stdout",
     "output_type": "stream",
     "text": [
      "Language Detected: Code=fr, Name=French\n",
      "\n",
      "Word            Polarity\n",
      "------------------------------\n",
      "хороший          1\n"
     ]
    }
   ],
   "source": [
    "import polyglot\n",
    "from polyglot.text import Text, Word\n",
    "\n",
    "text = Text(\"Bonjour, Mesdames.\")\n",
    "print(\"Language Detected: Code={}, Name={}\\n\".format(text.language.code, text.language.name))\n",
    "\n",
    "rus_text ='''\n",
    "Не сильно хороший фильм.\n",
    "'''\n",
    "text = Text(rus_text)\n",
    "print(\"{:<16}{}\".format(\"Word\", \"Polarity\")+\"\\n\"+\"-\"*30)\n",
    "\n",
    "for w in text.words:\n",
    "    if w.polarity !=0:\n",
    "        print(\"{:<16}{:>2}\".format(w, w.polarity))\n"
   ]
  },
  {
   "cell_type": "code",
   "execution_count": 2,
   "metadata": {},
   "outputs": [
    {
     "name": "stdout",
     "output_type": "stream",
     "text": [
      "  1. Italian                    2. Hindi                      3. French                   \n",
      "  4. Spanish; Castilian         5. Vietnamese                 6. Arabic                   \n",
      "  7. Bulgarian                  8. Norwegian                  9. Estonian                 \n",
      " 10. Japanese                  11. Greek, Modern             12. Slovene                  \n",
      " 13. Korean                    14. Serbian                   15. Finnish                  \n",
      " 16. Catalan; Valencian        17. Croatian                  18. Dutch                    \n",
      " 19. Swedish                   20. Tagalog                   21. Danish                   \n",
      " 22. Latvian                   23. Ukrainian                 24. Romanian, Moldavian, ... \n",
      " 25. Persian                   26. Slovak                    27. Portuguese               \n",
      " 28. English                   29. Malay                     30. Polish                   \n",
      " 31. German                    32. Indonesian                33. Chinese                  \n",
      " 34. Czech                     35. Hebrew (modern)           36. Lithuanian               \n",
      " 37. Turkish                   38. Hungarian                 39. Thai                     \n",
      " 40. Russian                  \n"
     ]
    }
   ],
   "source": [
    "from polyglot.downloader import downloader\n",
    "print(downloader.supported_languages_table(\"ner2\", 3))"
   ]
  },
  {
   "cell_type": "code",
   "execution_count": 10,
   "metadata": {},
   "outputs": [
    {
     "data": {
      "text/plain": [
       "[I-PER(['Матвиенко']),\n",
       " I-PER(['Галина']),\n",
       " I-PER(['Валентина', 'Матвиенко', 'адресовала', 'школьникам']),\n",
       " I-PER(['Владимир']),\n",
       " I-ORG(['ТАСС']),\n",
       " I-PER(['ТАСС', '.', 'Матвиенко']),\n",
       " I-LOC(['РФ']),\n",
       " I-ORG(['Российского']),\n",
       " I-PER(['Валентина', 'Матвиенко']),\n",
       " I-PER(['Она'])]"
      ]
     },
     "execution_count": 10,
     "metadata": {},
     "output_type": "execute_result"
    }
   ],
   "source": [
    "from polyglot.text import Text\n",
    "blob = \"\"\"\n",
    "Матвиенко поздравила школьников и педагогов с Днем знаний\n",
    "Текст: Галина Мисливская\n",
    "Цитировать в комментарии Сообщить об опечатке\n",
    "Задача государства - обеспечить качественный образовательный процесс, \n",
    "создать условия для успешной учебы и сохранения здоровья юных россиян. \n",
    "Об этом говорится в поздравлении с Днем знаний, которое председатель \n",
    "Совета Федерации Валентина Матвиенко адресовала школьникам, педагогам и родителям.\n",
    "\n",
    "\"В настоящее время мир вступает в эпоху, когда образование человека становится непрерывным. \n",
    "Цифровизация многих сфер жизни общества предоставляет новые возможности \n",
    "для повышения доступности обучения\", - говорится в документе.\n",
    "\n",
    "Фото: Владимир Смирнов ТАСС.\n",
    "Матвиенко призвала обеспечить сохранение малых и средних городов РФ\n",
    "\"Важнейшая задача Российского государства - обеспечить качественный образовательный процесс, \n",
    "создать необходимые условия для успешной учебы, сохранения здоровья маленьких \n",
    "граждан нашей страны\", - считает Валентина Матвиенко\n",
    "\n",
    "она отметила, что предыдущий учебный год ученики и преподаватели смогли \n",
    "достойно завершить, используя дистанционную форму работы. Выпускники школ \n",
    "получили аттестаты, поступили в образовательные учреждения, все, кто продолжает \n",
    "учиться, перешли в следующий класс с необходимым набором знаний, пройдя \n",
    "экзаменационные проверки и тестирования.\n",
    "\n",
    "\"Необходимо, чтобы отечественная система образования, сохранив свои \n",
    "лучшие традиции, используя современные технологии, оставалась конкурентоспособной, \n",
    "чтобы российские школьники и студенты уверенно достигали намеченных целей в науке, \n",
    "культуре, искусстве и спорте\", - заявила глава Совфеда.\n",
    "\n",
    "Она пожелала школьникам и учителям здоровья, новых творческих успехов и побед.\n",
    "\"\"\"\n",
    "# text = Text(blob)\n",
    "\n",
    "# We can also specify language of that text by using\n",
    "text = Text(blob, hint_language_code='ru')\n",
    "# We can query all entities mentioned in a text.\n",
    "\n",
    "text.entities"
   ]
  }
 ],
 "metadata": {
  "kernelspec": {
   "display_name": "Python 3",
   "language": "python",
   "name": "python3"
  },
  "language_info": {
   "codemirror_mode": {
    "name": "ipython",
    "version": 3
   },
   "file_extension": ".py",
   "mimetype": "text/x-python",
   "name": "python",
   "nbconvert_exporter": "python",
   "pygments_lexer": "ipython3",
   "version": "3.8.5"
  }
 },
 "nbformat": 4,
 "nbformat_minor": 4
}
